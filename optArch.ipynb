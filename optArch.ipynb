{
 "cells": [
  {
   "cell_type": "code",
   "execution_count": 1,
   "metadata": {
    "collapsed": true
   },
   "outputs": [],
   "source": [
    "import numpy as np\n",
    "import matplotlib.pyplot as plt"
   ]
  },
  {
   "cell_type": "code",
   "execution_count": 2,
   "metadata": {
    "collapsed": true
   },
   "outputs": [],
   "source": [
    "def f(**kw):\n",
    "    x = kw['test:y']\n",
    "    return 20*np.sin(x) - x**2"
   ]
  },
  {
   "cell_type": "code",
   "execution_count": 3,
   "metadata": {
    "scrolled": true
   },
   "outputs": [
    {
     "output_type": "display_data",
     "data": {
      "text/plain": "<Figure size 432x288 with 1 Axes>",
      "image/svg+xml": "<?xml version=\"1.0\" encoding=\"utf-8\" standalone=\"no\"?>\r\n<!DOCTYPE svg PUBLIC \"-//W3C//DTD SVG 1.1//EN\"\r\n  \"http://www.w3.org/Graphics/SVG/1.1/DTD/svg11.dtd\">\r\n<!-- Created with matplotlib (http://matplotlib.org/) -->\r\n<svg height=\"252.018125pt\" version=\"1.1\" viewBox=\"0 0 387.167188 252.018125\" width=\"387.167188pt\" xmlns=\"http://www.w3.org/2000/svg\" xmlns:xlink=\"http://www.w3.org/1999/xlink\">\r\n <defs>\r\n  <style type=\"text/css\">\r\n*{stroke-linecap:butt;stroke-linejoin:round;}\r\n  </style>\r\n </defs>\r\n <g id=\"figure_1\">\r\n  <g id=\"patch_1\">\r\n   <path d=\"M 0 252.018125 \r\nL 387.167188 252.018125 \r\nL 387.167188 0 \r\nL 0 0 \r\nz\r\n\" style=\"fill:none;\"/>\r\n  </g>\r\n  <g id=\"axes_1\">\r\n   <g id=\"patch_2\">\r\n    <path d=\"M 41.667188 228.14 \r\nL 376.467188 228.14 \r\nL 376.467188 10.7 \r\nL 41.667188 10.7 \r\nz\r\n\" style=\"fill:#ffffff;\"/>\r\n   </g>\r\n   <g id=\"matplotlib.axis_1\">\r\n    <g id=\"xtick_1\">\r\n     <g id=\"line2d_1\">\r\n      <defs>\r\n       <path d=\"M 0 0 \r\nL 0 3.5 \r\n\" id=\"m17993f733b\" style=\"stroke:#000000;stroke-width:0.8;\"/>\r\n      </defs>\r\n      <g>\r\n       <use style=\"stroke:#000000;stroke-width:0.8;\" x=\"56.885369\" xlink:href=\"#m17993f733b\" y=\"228.14\"/>\r\n      </g>\r\n     </g>\r\n     <g id=\"text_1\">\r\n      <!-- −10 -->\r\n      <defs>\r\n       <path d=\"M 10.59375 35.5 \r\nL 73.1875 35.5 \r\nL 73.1875 27.203125 \r\nL 10.59375 27.203125 \r\nz\r\n\" id=\"DejaVuSans-2212\"/>\r\n       <path d=\"M 12.40625 8.296875 \r\nL 28.515625 8.296875 \r\nL 28.515625 63.921875 \r\nL 10.984375 60.40625 \r\nL 10.984375 69.390625 \r\nL 28.421875 72.90625 \r\nL 38.28125 72.90625 \r\nL 38.28125 8.296875 \r\nL 54.390625 8.296875 \r\nL 54.390625 0 \r\nL 12.40625 0 \r\nz\r\n\" id=\"DejaVuSans-31\"/>\r\n       <path d=\"M 31.78125 66.40625 \r\nQ 24.171875 66.40625 20.328125 58.90625 \r\nQ 16.5 51.421875 16.5 36.375 \r\nQ 16.5 21.390625 20.328125 13.890625 \r\nQ 24.171875 6.390625 31.78125 6.390625 \r\nQ 39.453125 6.390625 43.28125 13.890625 \r\nQ 47.125 21.390625 47.125 36.375 \r\nQ 47.125 51.421875 43.28125 58.90625 \r\nQ 39.453125 66.40625 31.78125 66.40625 \r\nz\r\nM 31.78125 74.21875 \r\nQ 44.046875 74.21875 50.515625 64.515625 \r\nQ 56.984375 54.828125 56.984375 36.375 \r\nQ 56.984375 17.96875 50.515625 8.265625 \r\nQ 44.046875 -1.421875 31.78125 -1.421875 \r\nQ 19.53125 -1.421875 13.0625 8.265625 \r\nQ 6.59375 17.96875 6.59375 36.375 \r\nQ 6.59375 54.828125 13.0625 64.515625 \r\nQ 19.53125 74.21875 31.78125 74.21875 \r\nz\r\n\" id=\"DejaVuSans-30\"/>\r\n      </defs>\r\n      <g transform=\"translate(46.333026 242.738437)scale(0.1 -0.1)\">\r\n       <use xlink:href=\"#DejaVuSans-2212\"/>\r\n       <use x=\"83.789062\" xlink:href=\"#DejaVuSans-31\"/>\r\n       <use x=\"147.412109\" xlink:href=\"#DejaVuSans-30\"/>\r\n      </g>\r\n     </g>\r\n    </g>\r\n    <g id=\"xtick_2\">\r\n     <g id=\"line2d_2\">\r\n      <g>\r\n       <use style=\"stroke:#000000;stroke-width:0.8;\" x=\"118.002565\" xlink:href=\"#m17993f733b\" y=\"228.14\"/>\r\n      </g>\r\n     </g>\r\n     <g id=\"text_2\">\r\n      <!-- −5 -->\r\n      <defs>\r\n       <path d=\"M 10.796875 72.90625 \r\nL 49.515625 72.90625 \r\nL 49.515625 64.59375 \r\nL 19.828125 64.59375 \r\nL 19.828125 46.734375 \r\nQ 21.96875 47.46875 24.109375 47.828125 \r\nQ 26.265625 48.1875 28.421875 48.1875 \r\nQ 40.625 48.1875 47.75 41.5 \r\nQ 54.890625 34.8125 54.890625 23.390625 \r\nQ 54.890625 11.625 47.5625 5.09375 \r\nQ 40.234375 -1.421875 26.90625 -1.421875 \r\nQ 22.3125 -1.421875 17.546875 -0.640625 \r\nQ 12.796875 0.140625 7.71875 1.703125 \r\nL 7.71875 11.625 \r\nQ 12.109375 9.234375 16.796875 8.0625 \r\nQ 21.484375 6.890625 26.703125 6.890625 \r\nQ 35.15625 6.890625 40.078125 11.328125 \r\nQ 45.015625 15.765625 45.015625 23.390625 \r\nQ 45.015625 31 40.078125 35.4375 \r\nQ 35.15625 39.890625 26.703125 39.890625 \r\nQ 22.75 39.890625 18.8125 39.015625 \r\nQ 14.890625 38.140625 10.796875 36.28125 \r\nz\r\n\" id=\"DejaVuSans-35\"/>\r\n      </defs>\r\n      <g transform=\"translate(110.631472 242.738437)scale(0.1 -0.1)\">\r\n       <use xlink:href=\"#DejaVuSans-2212\"/>\r\n       <use x=\"83.789062\" xlink:href=\"#DejaVuSans-35\"/>\r\n      </g>\r\n     </g>\r\n    </g>\r\n    <g id=\"xtick_3\">\r\n     <g id=\"line2d_3\">\r\n      <g>\r\n       <use style=\"stroke:#000000;stroke-width:0.8;\" x=\"179.119761\" xlink:href=\"#m17993f733b\" y=\"228.14\"/>\r\n      </g>\r\n     </g>\r\n     <g id=\"text_3\">\r\n      <!-- 0 -->\r\n      <g transform=\"translate(175.938511 242.738437)scale(0.1 -0.1)\">\r\n       <use xlink:href=\"#DejaVuSans-30\"/>\r\n      </g>\r\n     </g>\r\n    </g>\r\n    <g id=\"xtick_4\">\r\n     <g id=\"line2d_4\">\r\n      <g>\r\n       <use style=\"stroke:#000000;stroke-width:0.8;\" x=\"240.236957\" xlink:href=\"#m17993f733b\" y=\"228.14\"/>\r\n      </g>\r\n     </g>\r\n     <g id=\"text_4\">\r\n      <!-- 5 -->\r\n      <g transform=\"translate(237.055707 242.738437)scale(0.1 -0.1)\">\r\n       <use xlink:href=\"#DejaVuSans-35\"/>\r\n      </g>\r\n     </g>\r\n    </g>\r\n    <g id=\"xtick_5\">\r\n     <g id=\"line2d_5\">\r\n      <g>\r\n       <use style=\"stroke:#000000;stroke-width:0.8;\" x=\"301.354154\" xlink:href=\"#m17993f733b\" y=\"228.14\"/>\r\n      </g>\r\n     </g>\r\n     <g id=\"text_5\">\r\n      <!-- 10 -->\r\n      <g transform=\"translate(294.991654 242.738437)scale(0.1 -0.1)\">\r\n       <use xlink:href=\"#DejaVuSans-31\"/>\r\n       <use x=\"63.623047\" xlink:href=\"#DejaVuSans-30\"/>\r\n      </g>\r\n     </g>\r\n    </g>\r\n    <g id=\"xtick_6\">\r\n     <g id=\"line2d_6\">\r\n      <g>\r\n       <use style=\"stroke:#000000;stroke-width:0.8;\" x=\"362.47135\" xlink:href=\"#m17993f733b\" y=\"228.14\"/>\r\n      </g>\r\n     </g>\r\n     <g id=\"text_6\">\r\n      <!-- 15 -->\r\n      <g transform=\"translate(356.10885 242.738437)scale(0.1 -0.1)\">\r\n       <use xlink:href=\"#DejaVuSans-31\"/>\r\n       <use x=\"63.623047\" xlink:href=\"#DejaVuSans-35\"/>\r\n      </g>\r\n     </g>\r\n    </g>\r\n   </g>\r\n   <g id=\"matplotlib.axis_2\">\r\n    <g id=\"ytick_1\">\r\n     <g id=\"line2d_7\">\r\n      <defs>\r\n       <path d=\"M 0 0 \r\nL -3.5 0 \r\n\" id=\"m89bc94ac85\" style=\"stroke:#000000;stroke-width:0.8;\"/>\r\n      </defs>\r\n      <g>\r\n       <use style=\"stroke:#000000;stroke-width:0.8;\" x=\"41.667188\" xlink:href=\"#m89bc94ac85\" y=\"211.630136\"/>\r\n      </g>\r\n     </g>\r\n     <g id=\"text_7\">\r\n      <!-- −200 -->\r\n      <defs>\r\n       <path d=\"M 19.1875 8.296875 \r\nL 53.609375 8.296875 \r\nL 53.609375 0 \r\nL 7.328125 0 \r\nL 7.328125 8.296875 \r\nQ 12.9375 14.109375 22.625 23.890625 \r\nQ 32.328125 33.6875 34.8125 36.53125 \r\nQ 39.546875 41.84375 41.421875 45.53125 \r\nQ 43.3125 49.21875 43.3125 52.78125 \r\nQ 43.3125 58.59375 39.234375 62.25 \r\nQ 35.15625 65.921875 28.609375 65.921875 \r\nQ 23.96875 65.921875 18.8125 64.3125 \r\nQ 13.671875 62.703125 7.8125 59.421875 \r\nL 7.8125 69.390625 \r\nQ 13.765625 71.78125 18.9375 73 \r\nQ 24.125 74.21875 28.421875 74.21875 \r\nQ 39.75 74.21875 46.484375 68.546875 \r\nQ 53.21875 62.890625 53.21875 53.421875 \r\nQ 53.21875 48.921875 51.53125 44.890625 \r\nQ 49.859375 40.875 45.40625 35.40625 \r\nQ 44.1875 33.984375 37.640625 27.21875 \r\nQ 31.109375 20.453125 19.1875 8.296875 \r\nz\r\n\" id=\"DejaVuSans-32\"/>\r\n      </defs>\r\n      <g transform=\"translate(7.2 215.429355)scale(0.1 -0.1)\">\r\n       <use xlink:href=\"#DejaVuSans-2212\"/>\r\n       <use x=\"83.789062\" xlink:href=\"#DejaVuSans-32\"/>\r\n       <use x=\"147.412109\" xlink:href=\"#DejaVuSans-30\"/>\r\n       <use x=\"211.035156\" xlink:href=\"#DejaVuSans-30\"/>\r\n      </g>\r\n     </g>\r\n    </g>\r\n    <g id=\"ytick_2\">\r\n     <g id=\"line2d_8\">\r\n      <g>\r\n       <use style=\"stroke:#000000;stroke-width:0.8;\" x=\"41.667188\" xlink:href=\"#m89bc94ac85\" y=\"167.761621\"/>\r\n      </g>\r\n     </g>\r\n     <g id=\"text_8\">\r\n      <!-- −150 -->\r\n      <g transform=\"translate(7.2 171.56084)scale(0.1 -0.1)\">\r\n       <use xlink:href=\"#DejaVuSans-2212\"/>\r\n       <use x=\"83.789062\" xlink:href=\"#DejaVuSans-31\"/>\r\n       <use x=\"147.412109\" xlink:href=\"#DejaVuSans-35\"/>\r\n       <use x=\"211.035156\" xlink:href=\"#DejaVuSans-30\"/>\r\n      </g>\r\n     </g>\r\n    </g>\r\n    <g id=\"ytick_3\">\r\n     <g id=\"line2d_9\">\r\n      <g>\r\n       <use style=\"stroke:#000000;stroke-width:0.8;\" x=\"41.667188\" xlink:href=\"#m89bc94ac85\" y=\"123.893106\"/>\r\n      </g>\r\n     </g>\r\n     <g id=\"text_9\">\r\n      <!-- −100 -->\r\n      <g transform=\"translate(7.2 127.692325)scale(0.1 -0.1)\">\r\n       <use xlink:href=\"#DejaVuSans-2212\"/>\r\n       <use x=\"83.789062\" xlink:href=\"#DejaVuSans-31\"/>\r\n       <use x=\"147.412109\" xlink:href=\"#DejaVuSans-30\"/>\r\n       <use x=\"211.035156\" xlink:href=\"#DejaVuSans-30\"/>\r\n      </g>\r\n     </g>\r\n    </g>\r\n    <g id=\"ytick_4\">\r\n     <g id=\"line2d_10\">\r\n      <g>\r\n       <use style=\"stroke:#000000;stroke-width:0.8;\" x=\"41.667188\" xlink:href=\"#m89bc94ac85\" y=\"80.024592\"/>\r\n      </g>\r\n     </g>\r\n     <g id=\"text_10\">\r\n      <!-- −50 -->\r\n      <g transform=\"translate(13.5625 83.82381)scale(0.1 -0.1)\">\r\n       <use xlink:href=\"#DejaVuSans-2212\"/>\r\n       <use x=\"83.789062\" xlink:href=\"#DejaVuSans-35\"/>\r\n       <use x=\"147.412109\" xlink:href=\"#DejaVuSans-30\"/>\r\n      </g>\r\n     </g>\r\n    </g>\r\n    <g id=\"ytick_5\">\r\n     <g id=\"line2d_11\">\r\n      <g>\r\n       <use style=\"stroke:#000000;stroke-width:0.8;\" x=\"41.667188\" xlink:href=\"#m89bc94ac85\" y=\"36.156077\"/>\r\n      </g>\r\n     </g>\r\n     <g id=\"text_11\">\r\n      <!-- 0 -->\r\n      <g transform=\"translate(28.304688 39.955296)scale(0.1 -0.1)\">\r\n       <use xlink:href=\"#DejaVuSans-30\"/>\r\n      </g>\r\n     </g>\r\n    </g>\r\n   </g>\r\n   <g id=\"line2d_12\">\r\n    <path clip-path=\"url(#p8d517eeb60)\" d=\"M 56.885369 114.346947 \r\nL 59.330057 113.987962 \r\nL 61.774745 113.955541 \r\nL 65.441777 114.223686 \r\nL 69.108809 114.454681 \r\nL 71.553496 114.363412 \r\nL 73.998184 113.933148 \r\nL 75.220528 113.557458 \r\nL 76.442872 113.059319 \r\nL 77.665216 112.428892 \r\nL 78.88756 111.657837 \r\nL 80.109904 110.739392 \r\nL 81.332248 109.668447 \r\nL 82.554592 108.441586 \r\nL 84.99928 105.515151 \r\nL 87.443967 101.967622 \r\nL 89.888655 97.834097 \r\nL 92.333343 93.175829 \r\nL 94.778031 88.077794 \r\nL 98.445063 79.84107 \r\nL 107.00147 60.136771 \r\nL 109.446158 54.998735 \r\nL 111.890846 50.316126 \r\nL 114.335534 46.197274 \r\nL 116.780221 42.730832 \r\nL 118.002565 41.263701 \r\nL 119.224909 39.982243 \r\nL 120.447253 38.890584 \r\nL 121.669597 37.991128 \r\nL 122.891941 37.284533 \r\nL 124.114285 36.769708 \r\nL 125.336629 36.443818 \r\nL 126.558973 36.302318 \r\nL 127.781317 36.338995 \r\nL 129.003661 36.546031 \r\nL 130.226005 36.914081 \r\nL 131.448349 37.432367 \r\nL 133.893036 38.870026 \r\nL 136.337724 40.748527 \r\nL 138.782412 42.942612 \r\nL 147.338819 51.132812 \r\nL 149.783507 53.062356 \r\nL 152.228195 54.589564 \r\nL 153.450539 55.172365 \r\nL 154.672883 55.621369 \r\nL 155.895227 55.928495 \r\nL 157.117571 56.087256 \r\nL 158.339915 56.092822 \r\nL 159.562259 55.942069 \r\nL 160.784603 55.63361 \r\nL 162.006947 55.167809 \r\nL 163.22929 54.546779 \r\nL 164.451634 53.774358 \r\nL 166.896322 51.79908 \r\nL 169.34101 49.305332 \r\nL 171.785698 46.379941 \r\nL 174.230386 43.129738 \r\nL 184.009137 29.463175 \r\nL 186.453825 26.56392 \r\nL 188.898513 24.129855 \r\nL 190.120857 23.121392 \r\nL 191.343201 22.267814 \r\nL 192.565545 21.579318 \r\nL 193.787888 21.064622 \r\nL 195.010232 20.730886 \r\nL 196.232576 20.583636 \r\nL 197.45492 20.626711 \r\nL 198.677264 20.862221 \r\nL 199.899608 21.290532 \r\nL 201.121952 21.910257 \r\nL 202.344296 22.718272 \r\nL 203.56664 23.709747 \r\nL 204.788984 24.878195 \r\nL 207.233672 27.712174 \r\nL 209.678359 31.138008 \r\nL 212.123047 35.052698 \r\nL 215.790079 41.57612 \r\nL 224.346487 57.464526 \r\nL 226.791174 61.569391 \r\nL 229.235862 65.263312 \r\nL 231.68055 68.454989 \r\nL 234.125238 71.075943 \r\nL 235.347582 72.157932 \r\nL 236.569926 73.083246 \r\nL 237.79227 73.850793 \r\nL 239.014614 74.461233 \r\nL 240.236957 74.916968 \r\nL 241.459301 75.222124 \r\nL 242.681645 75.382507 \r\nL 243.903989 75.405543 \r\nL 245.126333 75.300207 \r\nL 247.571021 74.747501 \r\nL 250.015709 73.823377 \r\nL 252.460397 72.644425 \r\nL 258.572116 69.450174 \r\nL 261.016804 68.437164 \r\nL 263.461492 67.777559 \r\nL 264.683836 67.618811 \r\nL 265.90618 67.592798 \r\nL 267.128524 67.712141 \r\nL 268.350868 67.988183 \r\nL 269.573212 68.430879 \r\nL 270.795556 69.04869 \r\nL 272.017899 69.848506 \r\nL 273.240243 70.835573 \r\nL 274.462587 72.01344 \r\nL 275.684931 73.383928 \r\nL 276.907275 74.947105 \r\nL 279.351963 78.643075 \r\nL 281.796651 83.067331 \r\nL 284.241339 88.15962 \r\nL 286.686026 93.835853 \r\nL 289.130714 99.991461 \r\nL 292.797746 109.855981 \r\nL 301.354154 133.439266 \r\nL 305.021185 142.707186 \r\nL 307.465873 148.322531 \r\nL 309.910561 153.392665 \r\nL 312.355249 157.863766 \r\nL 314.799937 161.708689 \r\nL 317.244625 164.928053 \r\nL 319.689312 167.550213 \r\nL 322.134 169.630132 \r\nL 324.578688 171.247187 \r\nL 327.023376 172.502008 \r\nL 330.690408 173.966457 \r\nL 335.579783 175.842029 \r\nL 338.024471 177.058815 \r\nL 340.469159 178.639723 \r\nL 342.913847 180.705011 \r\nL 345.358535 183.358426 \r\nL 347.803223 186.683065 \r\nL 350.24791 190.738065 \r\nL 352.692598 195.556244 \r\nL 355.137286 201.142792 \r\nL 357.581974 207.475065 \r\nL 360.026662 214.503487 \r\nL 361.249006 218.256364 \r\nL 361.249006 218.256364 \r\n\" style=\"fill:none;stroke:#1f77b4;stroke-linecap:square;stroke-width:1.5;\"/>\r\n   </g>\r\n   <g id=\"patch_3\">\r\n    <path d=\"M 41.667188 228.14 \r\nL 41.667188 10.7 \r\n\" style=\"fill:none;stroke:#000000;stroke-linecap:square;stroke-linejoin:miter;stroke-width:0.8;\"/>\r\n   </g>\r\n   <g id=\"patch_4\">\r\n    <path d=\"M 376.467188 228.14 \r\nL 376.467188 10.7 \r\n\" style=\"fill:none;stroke:#000000;stroke-linecap:square;stroke-linejoin:miter;stroke-width:0.8;\"/>\r\n   </g>\r\n   <g id=\"patch_5\">\r\n    <path d=\"M 41.667188 228.14 \r\nL 376.467188 228.14 \r\n\" style=\"fill:none;stroke:#000000;stroke-linecap:square;stroke-linejoin:miter;stroke-width:0.8;\"/>\r\n   </g>\r\n   <g id=\"patch_6\">\r\n    <path d=\"M 41.667188 10.7 \r\nL 376.467188 10.7 \r\n\" style=\"fill:none;stroke:#000000;stroke-linecap:square;stroke-linejoin:miter;stroke-width:0.8;\"/>\r\n   </g>\r\n  </g>\r\n </g>\r\n <defs>\r\n  <clipPath id=\"p8d517eeb60\">\r\n   <rect height=\"217.44\" width=\"334.8\" x=\"41.667188\" y=\"10.7\"/>\r\n  </clipPath>\r\n </defs>\r\n</svg>\r\n",
      "image/png": "[encoded data removed]"
     },
     "metadata": {}
    }
   ],
   "source": [
    "x = np.arange(-10, 15, 0.1)\n",
    "y = f(**{'test:y':x})\n",
    "plt.plot(x,y)\n",
    "plt.show()"
   ]
  },
  {
   "cell_type": "code",
   "execution_count": 4,
   "metadata": {
    "collapsed": true
   },
   "outputs": [],
   "source": [
    "from scipy import optimize"
   ]
  },
  {
   "cell_type": "code",
   "execution_count": 5,
   "metadata": {},
   "outputs": [
    {
     "output_type": "execute_result",
     "data": {
      "text/plain": [
       "      fun: -17.75725653147415\n",
       " hess_inv: array([[0.0458861]])\n",
       "      jac: array([0.])\n",
       "  message: 'Optimization terminated successfully.'\n",
       "     nfev: 14\n",
       "      nit: 6\n",
       "     njev: 7\n",
       "   status: 0\n",
       "  success: True\n",
       "        x: array([1.42755177])"
      ]
     },
     "metadata": {},
     "execution_count": 5
    }
   ],
   "source": [
    "optimize.minimize(lambda x:-f(**{'test:y':x}),0)"
   ]
  },
  {
   "cell_type": "code",
   "execution_count": null,
   "metadata": {
    "collapsed": true
   },
   "outputs": [],
   "source": []
  },
  {
   "cell_type": "code",
   "execution_count": 6,
   "metadata": {
    "collapsed": true
   },
   "outputs": [],
   "source": [
    "from bayes_opt import BayesianOptimization, UtilityFunction"
   ]
  },
  {
   "cell_type": "code",
   "execution_count": 7,
   "metadata": {
    "collapsed": true
   },
   "outputs": [],
   "source": [
    "optimizer = BayesianOptimization(f, {'test:y':(-10,15)})\n",
    "utility = UtilityFunction(kind=\"ucb\", kappa=2.5, xi=0.0)"
   ]
  },
  {
   "cell_type": "code",
   "execution_count": 8,
   "metadata": {
    "scrolled": true
   },
   "outputs": [
    {
     "output_type": "stream",
     "name": "stdout",
     "text": [
      "|   iter    |  target   |  test:y   |\n",
      "-------------------------------------\n",
      "| \u001b[0m 1       \u001b[0m | \u001b[0m-163.5   \u001b[0m | \u001b[0m 13.3    \u001b[0m |\n",
      "| \u001b[95m 2       \u001b[0m | \u001b[95m-65.39   \u001b[0m | \u001b[95m 8.79    \u001b[0m |\n",
      "| \u001b[95m 3       \u001b[0m | \u001b[95m-42.19   \u001b[0m | \u001b[95m 4.711   \u001b[0m |\n",
      "| \u001b[0m 4       \u001b[0m | \u001b[0m-42.39   \u001b[0m | \u001b[0m 7.897   \u001b[0m |\n",
      "| \u001b[95m 5       \u001b[0m | \u001b[95m-9.336   \u001b[0m | \u001b[95m-0.4731  \u001b[0m |\n",
      "| \u001b[95m 6       \u001b[0m | \u001b[95m-8.509   \u001b[0m | \u001b[95m-5.155   \u001b[0m |\n",
      "| \u001b[0m 7       \u001b[0m | \u001b[0m-89.12   \u001b[0m | \u001b[0m-10.0    \u001b[0m |\n",
      "| \u001b[0m 8       \u001b[0m | \u001b[0m-13.8    \u001b[0m | \u001b[0m-2.855   \u001b[0m |\n",
      "| \u001b[95m 9       \u001b[0m | \u001b[95m 17.42   \u001b[0m | \u001b[95m 1.603   \u001b[0m |\n",
      "| \u001b[0m 10      \u001b[0m | \u001b[0m 4.938   \u001b[0m | \u001b[0m 2.537   \u001b[0m |\n",
      "=====================================\n"
     ]
    }
   ],
   "source": [
    "optimizer.maximize(init_points=5, n_iter=5)"
   ]
  },
  {
   "cell_type": "code",
   "execution_count": 9,
   "metadata": {
    "code_folding": [],
    "scrolled": true
   },
   "outputs": [
    {
     "output_type": "stream",
     "name": "stdout",
     "text": [
      "| \u001b[0m 11      \u001b[0m | \u001b[0m 15.4    \u001b[0m | \u001b[0m 0.9533  \u001b[0m |\n",
      "| \u001b[95m 12      \u001b[0m | \u001b[95m 17.68   \u001b[0m | \u001b[95m 1.344   \u001b[0m |\n",
      "| \u001b[95m 13      \u001b[0m | \u001b[95m 17.76   \u001b[0m | \u001b[95m 1.439   \u001b[0m |\n",
      "| \u001b[95m 14      \u001b[0m | \u001b[95m 17.76   \u001b[0m | \u001b[95m 1.432   \u001b[0m |\n",
      "| \u001b[95m 15      \u001b[0m | \u001b[95m 17.76   \u001b[0m | \u001b[95m 1.432   \u001b[0m |\n",
      "| \u001b[95m 16      \u001b[0m | \u001b[95m 17.76   \u001b[0m | \u001b[95m 1.431   \u001b[0m |\n",
      "| \u001b[95m 17      \u001b[0m | \u001b[95m 17.76   \u001b[0m | \u001b[95m 1.43    \u001b[0m |\n",
      "| \u001b[0m 18      \u001b[0m | \u001b[0m 17.76   \u001b[0m | \u001b[0m 1.432   \u001b[0m |\n",
      "| \u001b[0m 19      \u001b[0m | \u001b[0m 17.76   \u001b[0m | \u001b[0m 1.43    \u001b[0m |\n",
      "| \u001b[95m 20      \u001b[0m | \u001b[95m 17.76   \u001b[0m | \u001b[95m 1.427   \u001b[0m |\n"
     ]
    }
   ],
   "source": [
    "for _ in range(10):\n",
    "    next_point_to_probe = optimizer.suggest(utility)\n",
    "    #print(\"Next point to probe is:\", next_point_to_probe)\n",
    "    \n",
    "    target = f(**next_point_to_probe)\n",
    "    #print(\"Found the target value to be:\", target)\n",
    "\n",
    "    optimizer.register(\n",
    "        params=next_point_to_probe,\n",
    "        target=target,\n",
    "    )"
   ]
  },
  {
   "cell_type": "code",
   "execution_count": 10,
   "metadata": {},
   "outputs": [
    {
     "output_type": "execute_result",
     "data": {
      "text/plain": [
       "{'params': {'test:y': 1.4274050152174063}, 'target': 17.757256296746803}"
      ]
     },
     "metadata": {},
     "execution_count": 10
    }
   ],
   "source": [
    "optimizer.max"
   ]
  },
  {
   "cell_type": "code",
   "execution_count": null,
   "metadata": {
    "collapsed": true
   },
   "outputs": [],
   "source": []
  },
  {
   "cell_type": "code",
   "execution_count": 11,
   "metadata": {
    "collapsed": true
   },
   "outputs": [],
   "source": [
    "from mod.asyncpv import AsyncPV as PV\n",
    "from mod.simulator import Simulator, Optimizer"
   ]
  },
  {
   "cell_type": "code",
   "execution_count": 12,
   "metadata": {
    "collapsed": true
   },
   "outputs": [],
   "source": [
    "from mod.onlineAlgorithms import OnlineBayesian"
   ]
  },
  {
   "cell_type": "code",
   "execution_count": 13,
   "metadata": {
    "collapsed": true
   },
   "outputs": [],
   "source": [
    "# connect to the epics pv\n",
    "x = PV('test:x')\n",
    "y = PV('test:y')\n",
    "sigopt = PV('sig:optim')\n",
    "sigmodel=PV('sig:calc')"
   ]
  },
  {
   "cell_type": "code",
   "execution_count": 14,
   "metadata": {
    "collapsed": true
   },
   "outputs": [],
   "source": [
    "def model(*args,**kw):\n",
    "    # return a single float number or a list of that(required by `Simulator`)\n",
    "    # mimic physical device\n",
    "    if args:\n",
    "        x = args[0]\n",
    "    elif kw:\n",
    "        x = kw['test:x']\n",
    "    return 20*np.sin(x) - x**2 + np.random.randn()"
   ]
  },
  {
   "cell_type": "code",
   "execution_count": 15,
   "metadata": {
    "collapsed": true
   },
   "outputs": [],
   "source": [
    "# define the virtual model\n",
    "sim = Simulator([x], [y], sigmodel, model)"
   ]
  },
  {
   "cell_type": "code",
   "execution_count": 16,
   "metadata": {
    "collapsed": true
   },
   "outputs": [],
   "source": [
    "# the objective function that will accept both x and y as keyword argument\n",
    "# and only y will be used here\n",
    "def objf(**kw) -> float:\n",
    "    y = kw['test:y']\n",
    "    return y"
   ]
  },
  {
   "cell_type": "code",
   "execution_count": 17,
   "metadata": {
    "collapsed": true
   },
   "outputs": [],
   "source": [
    "algo = OnlineBayesian(objf, {x.pvname:(-10,15)})\n",
    "optim = Optimizer([x], [y], sigopt, algo)"
   ]
  },
  {
   "cell_type": "code",
   "execution_count": 18,
   "metadata": {},
   "outputs": [
    {
     "output_type": "execute_result",
     "data": {
      "text/plain": [
       "1"
      ]
     },
     "metadata": {},
     "execution_count": 18
    }
   ],
   "source": [
    "# initialize signal\n",
    "sigopt.put(True)\n",
    "sigmodel.put(False)"
   ]
  },
  {
   "cell_type": "code",
   "execution_count": 19,
   "metadata": {
    "scrolled": true
   },
   "outputs": [
    {
     "output_type": "execute_result",
     "data": {
      "text/plain": [
       "(-2.2, -39.36781816144753)"
      ]
     },
     "metadata": {},
     "execution_count": 19
    }
   ],
   "source": [
    "# make the first value appropriate\n",
    "x.put(-2.2)\n",
    "y.put(model(x.get()))\n",
    "\n",
    "x.get(),y.get()"
   ]
  },
  {
   "cell_type": "code",
   "execution_count": 20,
   "metadata": {
    "collapsed": true
   },
   "outputs": [],
   "source": [
    "def suggest(pvname=None, value=None, char_value=None, **kw):\n",
    "    # optimizer throw a suggestion\n",
    "    sigopt.async_put(False)\n",
    "    # make model ready to recive new input\n",
    "    sigmodel.async_put(False)"
   ]
  },
  {
   "cell_type": "code",
   "execution_count": 21,
   "metadata": {
    "collapsed": true
   },
   "outputs": [],
   "source": [
    "def calc(pvname=None, value=None, char_value=None, **kw):\n",
    "    # tell model start calculation and put result to relevent pv\n",
    "    sigmodel.async_put(True)\n",
    "    # make optimizer ready for next step\n",
    "    sigopt.async_put(True)\n",
    "    \n",
    "#x.add_callback(calc)"
   ]
  },
  {
   "cell_type": "code",
   "execution_count": 22,
   "metadata": {
    "collapsed": true
   },
   "outputs": [],
   "source": [
    "import time"
   ]
  },
  {
   "cell_type": "code",
   "execution_count": 23,
   "metadata": {
    "scrolled": true
   },
   "outputs": [
    {
     "output_type": "stream",
     "name": "stdout",
     "text": [
      "Fri Mar  5 19:46:12 2021 suggestion : -2.200 \tmodel response : -67.658\n",
      "Fri Mar  5 19:46:13 2021 suggestion : -7.173 \tmodel response : -149.808\n",
      "Fri Mar  5 19:46:14 2021 suggestion : 11.679 \tmodel response : -41.687\n",
      "Fri Mar  5 19:46:15 2021 suggestion : 7.951 \tmodel response : -160.169\n",
      "Fri Mar  5 19:46:16 2021 suggestion : 12.980 \tmodel response : -23.459\n",
      "Fri Mar  5 19:46:17 2021 suggestion : 3.574 \tmodel response : 12.410\n",
      "Fri Mar  5 19:46:18 2021 suggestion : 0.782 \tmodel response : -88.116\n",
      "Fri Mar  5 19:46:19 2021 suggestion : -10.000 \tmodel response : 18.101\n",
      "Fri Mar  5 19:46:20 2021 suggestion : 1.752 \tmodel response : 18.904\n",
      "Fri Mar  5 19:46:21 2021 suggestion : 1.367 \tmodel response : 17.573\n",
      "Fri Mar  5 19:46:23 2021 suggestion : 1.524 \tmodel response : -0.716\n",
      "Fri Mar  5 19:46:24 2021 suggestion : -4.554 \tmodel response : -42.256\n",
      "Fri Mar  5 19:46:25 2021 suggestion : 5.904 \tmodel response : -4.321\n",
      "Fri Mar  5 19:46:26 2021 suggestion : -3.581 \tmodel response : 5.725\n",
      "Fri Mar  5 19:46:27 2021 suggestion : 2.552 \tmodel response : -213.437\n",
      "Fri Mar  5 19:46:28 2021 suggestion : 15.000 \tmodel response : -18.121\n",
      "Fri Mar  5 19:46:29 2021 suggestion : -5.630 \tmodel response : -8.381\n",
      "Fri Mar  5 19:46:30 2021 suggestion : -0.498 \tmodel response : -84.773\n",
      "Fri Mar  5 19:46:31 2021 suggestion : 9.307 \tmodel response : 14.169\n",
      "Fri Mar  5 19:46:32 2021 suggestion : 2.065 \tmodel response : 17.163\n"
     ]
    }
   ],
   "source": [
    "for _ in range(20):\n",
    "    suggest()\n",
    "    print(time.ctime(), 'suggestion : %.3f'%x.get(), '\\t' , end='')\n",
    "    time.sleep(0.5) # wait for suggestion\n",
    "    calc()\n",
    "    time.sleep(0.5) # wait for model calculation\n",
    "    print('model response : %.3f'%y.get())"
   ]
  },
  {
   "cell_type": "code",
   "execution_count": 24,
   "metadata": {
    "collapsed": true
   },
   "outputs": [],
   "source": [
    "sim.destroy()\n",
    "optim.destroy()"
   ]
  },
  {
   "cell_type": "code",
   "execution_count": null,
   "metadata": {
    "collapsed": true
   },
   "outputs": [],
   "source": []
  }
 ],
 "metadata": {
  "kernelspec": {
   "display_name": "Python 3",
   "language": "python",
   "name": "python3"
  },
  "language_info": {
   "codemirror_mode": {
    "name": "ipython",
    "version": 3
   },
   "file_extension": ".py",
   "mimetype": "text/x-python",
   "name": "python",
   "nbconvert_exporter": "python",
   "pygments_lexer": "ipython3",
   "version": "3.6.12-final"
  },
  "toc": {
   "base_numbering": 1,
   "nav_menu": {},
   "number_sections": true,
   "sideBar": true,
   "skip_h1_title": false,
   "title_cell": "Table of Contents",
   "title_sidebar": "Contents",
   "toc_cell": false,
   "toc_position": {},
   "toc_section_display": true,
   "toc_window_display": false
  },
  "varInspector": {
   "cols": {
    "lenName": 16,
    "lenType": 16,
    "lenVar": 40
   },
   "kernels_config": {
    "python": {
     "delete_cmd_postfix": "",
     "delete_cmd_prefix": "del ",
     "library": "var_list.py",
     "varRefreshCmd": "print(var_dic_list())"
    },
    "r": {
     "delete_cmd_postfix": ") ",
     "delete_cmd_prefix": "rm(",
     "library": "var_list.r",
     "varRefreshCmd": "cat(var_dic_list()) "
    }
   },
   "types_to_exclude": [
    "module",
    "function",
    "builtin_function_or_method",
    "instance",
    "_Feature"
   ],
   "window_display": false
  }
 },
 "nbformat": 4,
 "nbformat_minor": 4
}